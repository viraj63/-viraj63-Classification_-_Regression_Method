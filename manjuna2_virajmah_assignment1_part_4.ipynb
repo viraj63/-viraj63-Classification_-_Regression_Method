{
 "cells": [
  {
   "cell_type": "markdown",
   "id": "51a31cb1",
   "metadata": {},
   "source": [
    "### STEP_2__. Import required libraries (not allowed: scikit-learn or any other libraries with inbuilt functions that help to implement ML)"
   ]
  },
  {
   "cell_type": "code",
   "execution_count": 3,
   "id": "9d3c0f30",
   "metadata": {},
   "outputs": [],
   "source": [
    "#all required libraries imported \n",
    "#import matplotlib.pyplot as plt\n",
    "import matplotlib.pyplot as plt\n",
    "import numpy as np\n",
    "import pandas as pd  \n",
    "import seaborn as sns \n",
    "import time\n",
    "\n",
    "import plotly.express as px\n",
    "import plotly.graph_objects as go\n",
    "from plotly.subplots import make_subplots\n",
    "import plotly"
   ]
  },
  {
   "cell_type": "markdown",
   "id": "bc9c03b1",
   "metadata": {},
   "source": [
    "### STEP_1__Select one dataset from the list provided above. The datasets are located in the folder “dataset”, use only the dataset provided in the folder"
   ]
  },
  {
   "cell_type": "code",
   "execution_count": 4,
   "id": "a27319a1",
   "metadata": {},
   "outputs": [],
   "source": [
    "#reading the File\n",
    "#pd.set_option('display.max_rows', None)\n",
    "data_diamond_3=pd.read_csv(\"C:/Users/viraj/Code_a/ML_Prof_Alina/Assignment_1/datasets (1)/datasets/diamond.csv\")"
   ]
  },
  {
   "cell_type": "markdown",
   "id": "206b91ca",
   "metadata": {},
   "source": [
    "### STEP_3__Read, preprocess and print the main statistic about the dataset (your code from Part I can be reused)."
   ]
  },
  {
   "cell_type": "code",
   "execution_count": 5,
   "id": "91645d88",
   "metadata": {},
   "outputs": [
    {
     "data": {
      "text/html": [
       "<div>\n",
       "<style scoped>\n",
       "    .dataframe tbody tr th:only-of-type {\n",
       "        vertical-align: middle;\n",
       "    }\n",
       "\n",
       "    .dataframe tbody tr th {\n",
       "        vertical-align: top;\n",
       "    }\n",
       "\n",
       "    .dataframe thead th {\n",
       "        text-align: right;\n",
       "    }\n",
       "</style>\n",
       "<table border=\"1\" class=\"dataframe\">\n",
       "  <thead>\n",
       "    <tr style=\"text-align: right;\">\n",
       "      <th></th>\n",
       "      <th>Unnamed: 0</th>\n",
       "      <th>carat</th>\n",
       "      <th>cut</th>\n",
       "      <th>color</th>\n",
       "      <th>clarity</th>\n",
       "      <th>depth</th>\n",
       "      <th>table</th>\n",
       "      <th>price</th>\n",
       "      <th>x</th>\n",
       "      <th>y</th>\n",
       "      <th>z</th>\n",
       "    </tr>\n",
       "  </thead>\n",
       "  <tbody>\n",
       "    <tr>\n",
       "      <th>0</th>\n",
       "      <td>1</td>\n",
       "      <td>0.23</td>\n",
       "      <td>Ideal</td>\n",
       "      <td>E</td>\n",
       "      <td>SI2</td>\n",
       "      <td>61.5</td>\n",
       "      <td>55.0</td>\n",
       "      <td>326</td>\n",
       "      <td>3.95</td>\n",
       "      <td>3.98</td>\n",
       "      <td>2.43</td>\n",
       "    </tr>\n",
       "    <tr>\n",
       "      <th>1</th>\n",
       "      <td>2</td>\n",
       "      <td>0.21</td>\n",
       "      <td>Premium</td>\n",
       "      <td>E</td>\n",
       "      <td>SI1</td>\n",
       "      <td>59.8</td>\n",
       "      <td>61.0</td>\n",
       "      <td>326</td>\n",
       "      <td>3.89</td>\n",
       "      <td>3.84</td>\n",
       "      <td>2.31</td>\n",
       "    </tr>\n",
       "    <tr>\n",
       "      <th>2</th>\n",
       "      <td>3</td>\n",
       "      <td>0.23</td>\n",
       "      <td>Good</td>\n",
       "      <td>E</td>\n",
       "      <td>VS1</td>\n",
       "      <td>56.9</td>\n",
       "      <td>65.0</td>\n",
       "      <td>327</td>\n",
       "      <td>4.05</td>\n",
       "      <td>4.07</td>\n",
       "      <td>2.31</td>\n",
       "    </tr>\n",
       "    <tr>\n",
       "      <th>3</th>\n",
       "      <td>4</td>\n",
       "      <td>0.29</td>\n",
       "      <td>Premium</td>\n",
       "      <td>I</td>\n",
       "      <td>VS2</td>\n",
       "      <td>62.4</td>\n",
       "      <td>58.0</td>\n",
       "      <td>334</td>\n",
       "      <td>4.20</td>\n",
       "      <td>4.23</td>\n",
       "      <td>2.63</td>\n",
       "    </tr>\n",
       "    <tr>\n",
       "      <th>4</th>\n",
       "      <td>5</td>\n",
       "      <td>0.31</td>\n",
       "      <td>Good</td>\n",
       "      <td>J</td>\n",
       "      <td>SI2</td>\n",
       "      <td>63.3</td>\n",
       "      <td>58.0</td>\n",
       "      <td>335</td>\n",
       "      <td>4.34</td>\n",
       "      <td>4.35</td>\n",
       "      <td>2.75</td>\n",
       "    </tr>\n",
       "  </tbody>\n",
       "</table>\n",
       "</div>"
      ],
      "text/plain": [
       "   Unnamed: 0  carat      cut color clarity  depth  table  price     x     y  \\\n",
       "0           1   0.23    Ideal     E     SI2   61.5   55.0    326  3.95  3.98   \n",
       "1           2   0.21  Premium     E     SI1   59.8   61.0    326  3.89  3.84   \n",
       "2           3   0.23     Good     E     VS1   56.9   65.0    327  4.05  4.07   \n",
       "3           4   0.29  Premium     I     VS2   62.4   58.0    334  4.20  4.23   \n",
       "4           5   0.31     Good     J     SI2   63.3   58.0    335  4.34  4.35   \n",
       "\n",
       "      z  \n",
       "0  2.43  \n",
       "1  2.31  \n",
       "2  2.31  \n",
       "3  2.63  \n",
       "4  2.75  "
      ]
     },
     "execution_count": 5,
     "metadata": {},
     "output_type": "execute_result"
    }
   ],
   "source": [
    "data_diamond_3.head()"
   ]
  },
  {
   "cell_type": "code",
   "execution_count": 6,
   "id": "e0f94561",
   "metadata": {},
   "outputs": [
    {
     "data": {
      "text/plain": [
       "Unnamed: 0    0\n",
       "carat         0\n",
       "cut           0\n",
       "color         0\n",
       "clarity       0\n",
       "depth         0\n",
       "table         0\n",
       "price         0\n",
       "x             0\n",
       "y             0\n",
       "z             0\n",
       "dtype: int64"
      ]
     },
     "execution_count": 6,
     "metadata": {},
     "output_type": "execute_result"
    }
   ],
   "source": [
    "#checking the null values\n",
    "data_diamond_3.isnull().sum() "
   ]
  },
  {
   "cell_type": "code",
   "execution_count": 7,
   "id": "f5baa604",
   "metadata": {},
   "outputs": [
    {
     "name": "stdout",
     "output_type": "stream",
     "text": [
      "<class 'pandas.core.frame.DataFrame'>\n",
      "RangeIndex: 53940 entries, 0 to 53939\n",
      "Data columns (total 11 columns):\n",
      " #   Column      Non-Null Count  Dtype  \n",
      "---  ------      --------------  -----  \n",
      " 0   Unnamed: 0  53940 non-null  int64  \n",
      " 1   carat       53940 non-null  float64\n",
      " 2   cut         53940 non-null  object \n",
      " 3   color       53940 non-null  object \n",
      " 4   clarity     53940 non-null  object \n",
      " 5   depth       53940 non-null  float64\n",
      " 6   table       53940 non-null  float64\n",
      " 7   price       53940 non-null  int64  \n",
      " 8   x           53940 non-null  float64\n",
      " 9   y           53940 non-null  float64\n",
      " 10  z           53940 non-null  float64\n",
      "dtypes: float64(6), int64(2), object(3)\n",
      "memory usage: 4.5+ MB\n"
     ]
    }
   ],
   "source": [
    "data_diamond_3.info()"
   ]
  },
  {
   "cell_type": "code",
   "execution_count": 8,
   "id": "3196a88e",
   "metadata": {},
   "outputs": [],
   "source": [
    "data_diamond_3 = data_diamond_3.drop([\"Unnamed: 0\"], axis=1)"
   ]
  },
  {
   "cell_type": "code",
   "execution_count": 9,
   "id": "b93b4ed5",
   "metadata": {},
   "outputs": [
    {
     "data": {
      "text/html": [
       "<div>\n",
       "<style scoped>\n",
       "    .dataframe tbody tr th:only-of-type {\n",
       "        vertical-align: middle;\n",
       "    }\n",
       "\n",
       "    .dataframe tbody tr th {\n",
       "        vertical-align: top;\n",
       "    }\n",
       "\n",
       "    .dataframe thead th {\n",
       "        text-align: right;\n",
       "    }\n",
       "</style>\n",
       "<table border=\"1\" class=\"dataframe\">\n",
       "  <thead>\n",
       "    <tr style=\"text-align: right;\">\n",
       "      <th></th>\n",
       "      <th>carat</th>\n",
       "      <th>cut</th>\n",
       "      <th>color</th>\n",
       "      <th>clarity</th>\n",
       "      <th>depth</th>\n",
       "      <th>table</th>\n",
       "      <th>price</th>\n",
       "      <th>x</th>\n",
       "      <th>y</th>\n",
       "      <th>z</th>\n",
       "    </tr>\n",
       "  </thead>\n",
       "  <tbody>\n",
       "    <tr>\n",
       "      <th>0</th>\n",
       "      <td>0.23</td>\n",
       "      <td>Ideal</td>\n",
       "      <td>E</td>\n",
       "      <td>SI2</td>\n",
       "      <td>61.5</td>\n",
       "      <td>55.0</td>\n",
       "      <td>326</td>\n",
       "      <td>3.95</td>\n",
       "      <td>3.98</td>\n",
       "      <td>2.43</td>\n",
       "    </tr>\n",
       "    <tr>\n",
       "      <th>1</th>\n",
       "      <td>0.21</td>\n",
       "      <td>Premium</td>\n",
       "      <td>E</td>\n",
       "      <td>SI1</td>\n",
       "      <td>59.8</td>\n",
       "      <td>61.0</td>\n",
       "      <td>326</td>\n",
       "      <td>3.89</td>\n",
       "      <td>3.84</td>\n",
       "      <td>2.31</td>\n",
       "    </tr>\n",
       "    <tr>\n",
       "      <th>2</th>\n",
       "      <td>0.23</td>\n",
       "      <td>Good</td>\n",
       "      <td>E</td>\n",
       "      <td>VS1</td>\n",
       "      <td>56.9</td>\n",
       "      <td>65.0</td>\n",
       "      <td>327</td>\n",
       "      <td>4.05</td>\n",
       "      <td>4.07</td>\n",
       "      <td>2.31</td>\n",
       "    </tr>\n",
       "    <tr>\n",
       "      <th>3</th>\n",
       "      <td>0.29</td>\n",
       "      <td>Premium</td>\n",
       "      <td>I</td>\n",
       "      <td>VS2</td>\n",
       "      <td>62.4</td>\n",
       "      <td>58.0</td>\n",
       "      <td>334</td>\n",
       "      <td>4.20</td>\n",
       "      <td>4.23</td>\n",
       "      <td>2.63</td>\n",
       "    </tr>\n",
       "    <tr>\n",
       "      <th>4</th>\n",
       "      <td>0.31</td>\n",
       "      <td>Good</td>\n",
       "      <td>J</td>\n",
       "      <td>SI2</td>\n",
       "      <td>63.3</td>\n",
       "      <td>58.0</td>\n",
       "      <td>335</td>\n",
       "      <td>4.34</td>\n",
       "      <td>4.35</td>\n",
       "      <td>2.75</td>\n",
       "    </tr>\n",
       "    <tr>\n",
       "      <th>...</th>\n",
       "      <td>...</td>\n",
       "      <td>...</td>\n",
       "      <td>...</td>\n",
       "      <td>...</td>\n",
       "      <td>...</td>\n",
       "      <td>...</td>\n",
       "      <td>...</td>\n",
       "      <td>...</td>\n",
       "      <td>...</td>\n",
       "      <td>...</td>\n",
       "    </tr>\n",
       "    <tr>\n",
       "      <th>53935</th>\n",
       "      <td>0.72</td>\n",
       "      <td>Ideal</td>\n",
       "      <td>D</td>\n",
       "      <td>SI1</td>\n",
       "      <td>60.8</td>\n",
       "      <td>57.0</td>\n",
       "      <td>2757</td>\n",
       "      <td>5.75</td>\n",
       "      <td>5.76</td>\n",
       "      <td>3.50</td>\n",
       "    </tr>\n",
       "    <tr>\n",
       "      <th>53936</th>\n",
       "      <td>0.72</td>\n",
       "      <td>Good</td>\n",
       "      <td>D</td>\n",
       "      <td>SI1</td>\n",
       "      <td>63.1</td>\n",
       "      <td>55.0</td>\n",
       "      <td>2757</td>\n",
       "      <td>5.69</td>\n",
       "      <td>5.75</td>\n",
       "      <td>3.61</td>\n",
       "    </tr>\n",
       "    <tr>\n",
       "      <th>53937</th>\n",
       "      <td>0.70</td>\n",
       "      <td>Very Good</td>\n",
       "      <td>D</td>\n",
       "      <td>SI1</td>\n",
       "      <td>62.8</td>\n",
       "      <td>60.0</td>\n",
       "      <td>2757</td>\n",
       "      <td>5.66</td>\n",
       "      <td>5.68</td>\n",
       "      <td>3.56</td>\n",
       "    </tr>\n",
       "    <tr>\n",
       "      <th>53938</th>\n",
       "      <td>0.86</td>\n",
       "      <td>Premium</td>\n",
       "      <td>H</td>\n",
       "      <td>SI2</td>\n",
       "      <td>61.0</td>\n",
       "      <td>58.0</td>\n",
       "      <td>2757</td>\n",
       "      <td>6.15</td>\n",
       "      <td>6.12</td>\n",
       "      <td>3.74</td>\n",
       "    </tr>\n",
       "    <tr>\n",
       "      <th>53939</th>\n",
       "      <td>0.75</td>\n",
       "      <td>Ideal</td>\n",
       "      <td>D</td>\n",
       "      <td>SI2</td>\n",
       "      <td>62.2</td>\n",
       "      <td>55.0</td>\n",
       "      <td>2757</td>\n",
       "      <td>5.83</td>\n",
       "      <td>5.87</td>\n",
       "      <td>3.64</td>\n",
       "    </tr>\n",
       "  </tbody>\n",
       "</table>\n",
       "<p>53940 rows × 10 columns</p>\n",
       "</div>"
      ],
      "text/plain": [
       "       carat        cut color clarity  depth  table  price     x     y     z\n",
       "0       0.23      Ideal     E     SI2   61.5   55.0    326  3.95  3.98  2.43\n",
       "1       0.21    Premium     E     SI1   59.8   61.0    326  3.89  3.84  2.31\n",
       "2       0.23       Good     E     VS1   56.9   65.0    327  4.05  4.07  2.31\n",
       "3       0.29    Premium     I     VS2   62.4   58.0    334  4.20  4.23  2.63\n",
       "4       0.31       Good     J     SI2   63.3   58.0    335  4.34  4.35  2.75\n",
       "...      ...        ...   ...     ...    ...    ...    ...   ...   ...   ...\n",
       "53935   0.72      Ideal     D     SI1   60.8   57.0   2757  5.75  5.76  3.50\n",
       "53936   0.72       Good     D     SI1   63.1   55.0   2757  5.69  5.75  3.61\n",
       "53937   0.70  Very Good     D     SI1   62.8   60.0   2757  5.66  5.68  3.56\n",
       "53938   0.86    Premium     H     SI2   61.0   58.0   2757  6.15  6.12  3.74\n",
       "53939   0.75      Ideal     D     SI2   62.2   55.0   2757  5.83  5.87  3.64\n",
       "\n",
       "[53940 rows x 10 columns]"
      ]
     },
     "execution_count": 9,
     "metadata": {},
     "output_type": "execute_result"
    }
   ],
   "source": [
    "data_diamond_3"
   ]
  },
  {
   "cell_type": "code",
   "execution_count": 10,
   "id": "9fd6581c",
   "metadata": {},
   "outputs": [
    {
     "name": "stdout",
     "output_type": "stream",
     "text": [
      "carat\n",
      "cut\n",
      "color\n",
      "clarity\n",
      "depth\n",
      "table\n",
      "price\n",
      "x\n",
      "y\n",
      "z\n"
     ]
    }
   ],
   "source": [
    "df=data_diamond_3\n",
    "#printing the column names\n",
    "for col in df.columns:\n",
    "    print(col)"
   ]
  },
  {
   "cell_type": "code",
   "execution_count": 11,
   "id": "91bcaaf0",
   "metadata": {},
   "outputs": [],
   "source": [
    "df.head().transpose()\n",
    "df = pd.DataFrame(df)"
   ]
  },
  {
   "cell_type": "code",
   "execution_count": 12,
   "id": "8d66a462",
   "metadata": {},
   "outputs": [],
   "source": [
    "df.drop(df[df['x'] == 0].index, inplace = True)\n",
    "df.drop(df[df['y'] == 0].index, inplace = True)\n",
    "df.drop(df[df['z'] == 0].index, inplace = True)"
   ]
  },
  {
   "cell_type": "code",
   "execution_count": 13,
   "id": "8590c14b",
   "metadata": {},
   "outputs": [
    {
     "data": {
      "text/html": [
       "<div>\n",
       "<style scoped>\n",
       "    .dataframe tbody tr th:only-of-type {\n",
       "        vertical-align: middle;\n",
       "    }\n",
       "\n",
       "    .dataframe tbody tr th {\n",
       "        vertical-align: top;\n",
       "    }\n",
       "\n",
       "    .dataframe thead th {\n",
       "        text-align: right;\n",
       "    }\n",
       "</style>\n",
       "<table border=\"1\" class=\"dataframe\">\n",
       "  <thead>\n",
       "    <tr style=\"text-align: right;\">\n",
       "      <th></th>\n",
       "      <th>carat</th>\n",
       "      <th>cut</th>\n",
       "      <th>color</th>\n",
       "      <th>clarity</th>\n",
       "      <th>depth</th>\n",
       "      <th>table</th>\n",
       "      <th>price</th>\n",
       "      <th>x</th>\n",
       "      <th>y</th>\n",
       "      <th>z</th>\n",
       "    </tr>\n",
       "  </thead>\n",
       "  <tbody>\n",
       "    <tr>\n",
       "      <th>0</th>\n",
       "      <td>0.23</td>\n",
       "      <td>Ideal</td>\n",
       "      <td>E</td>\n",
       "      <td>SI2</td>\n",
       "      <td>61.5</td>\n",
       "      <td>55.0</td>\n",
       "      <td>326</td>\n",
       "      <td>3.95</td>\n",
       "      <td>3.98</td>\n",
       "      <td>2.43</td>\n",
       "    </tr>\n",
       "    <tr>\n",
       "      <th>1</th>\n",
       "      <td>0.21</td>\n",
       "      <td>Premium</td>\n",
       "      <td>E</td>\n",
       "      <td>SI1</td>\n",
       "      <td>59.8</td>\n",
       "      <td>61.0</td>\n",
       "      <td>326</td>\n",
       "      <td>3.89</td>\n",
       "      <td>3.84</td>\n",
       "      <td>2.31</td>\n",
       "    </tr>\n",
       "    <tr>\n",
       "      <th>2</th>\n",
       "      <td>0.23</td>\n",
       "      <td>Good</td>\n",
       "      <td>E</td>\n",
       "      <td>VS1</td>\n",
       "      <td>56.9</td>\n",
       "      <td>65.0</td>\n",
       "      <td>327</td>\n",
       "      <td>4.05</td>\n",
       "      <td>4.07</td>\n",
       "      <td>2.31</td>\n",
       "    </tr>\n",
       "    <tr>\n",
       "      <th>3</th>\n",
       "      <td>0.29</td>\n",
       "      <td>Premium</td>\n",
       "      <td>I</td>\n",
       "      <td>VS2</td>\n",
       "      <td>62.4</td>\n",
       "      <td>58.0</td>\n",
       "      <td>334</td>\n",
       "      <td>4.20</td>\n",
       "      <td>4.23</td>\n",
       "      <td>2.63</td>\n",
       "    </tr>\n",
       "    <tr>\n",
       "      <th>4</th>\n",
       "      <td>0.31</td>\n",
       "      <td>Good</td>\n",
       "      <td>J</td>\n",
       "      <td>SI2</td>\n",
       "      <td>63.3</td>\n",
       "      <td>58.0</td>\n",
       "      <td>335</td>\n",
       "      <td>4.34</td>\n",
       "      <td>4.35</td>\n",
       "      <td>2.75</td>\n",
       "    </tr>\n",
       "    <tr>\n",
       "      <th>...</th>\n",
       "      <td>...</td>\n",
       "      <td>...</td>\n",
       "      <td>...</td>\n",
       "      <td>...</td>\n",
       "      <td>...</td>\n",
       "      <td>...</td>\n",
       "      <td>...</td>\n",
       "      <td>...</td>\n",
       "      <td>...</td>\n",
       "      <td>...</td>\n",
       "    </tr>\n",
       "    <tr>\n",
       "      <th>53935</th>\n",
       "      <td>0.72</td>\n",
       "      <td>Ideal</td>\n",
       "      <td>D</td>\n",
       "      <td>SI1</td>\n",
       "      <td>60.8</td>\n",
       "      <td>57.0</td>\n",
       "      <td>2757</td>\n",
       "      <td>5.75</td>\n",
       "      <td>5.76</td>\n",
       "      <td>3.50</td>\n",
       "    </tr>\n",
       "    <tr>\n",
       "      <th>53936</th>\n",
       "      <td>0.72</td>\n",
       "      <td>Good</td>\n",
       "      <td>D</td>\n",
       "      <td>SI1</td>\n",
       "      <td>63.1</td>\n",
       "      <td>55.0</td>\n",
       "      <td>2757</td>\n",
       "      <td>5.69</td>\n",
       "      <td>5.75</td>\n",
       "      <td>3.61</td>\n",
       "    </tr>\n",
       "    <tr>\n",
       "      <th>53937</th>\n",
       "      <td>0.70</td>\n",
       "      <td>Very Good</td>\n",
       "      <td>D</td>\n",
       "      <td>SI1</td>\n",
       "      <td>62.8</td>\n",
       "      <td>60.0</td>\n",
       "      <td>2757</td>\n",
       "      <td>5.66</td>\n",
       "      <td>5.68</td>\n",
       "      <td>3.56</td>\n",
       "    </tr>\n",
       "    <tr>\n",
       "      <th>53938</th>\n",
       "      <td>0.86</td>\n",
       "      <td>Premium</td>\n",
       "      <td>H</td>\n",
       "      <td>SI2</td>\n",
       "      <td>61.0</td>\n",
       "      <td>58.0</td>\n",
       "      <td>2757</td>\n",
       "      <td>6.15</td>\n",
       "      <td>6.12</td>\n",
       "      <td>3.74</td>\n",
       "    </tr>\n",
       "    <tr>\n",
       "      <th>53939</th>\n",
       "      <td>0.75</td>\n",
       "      <td>Ideal</td>\n",
       "      <td>D</td>\n",
       "      <td>SI2</td>\n",
       "      <td>62.2</td>\n",
       "      <td>55.0</td>\n",
       "      <td>2757</td>\n",
       "      <td>5.83</td>\n",
       "      <td>5.87</td>\n",
       "      <td>3.64</td>\n",
       "    </tr>\n",
       "  </tbody>\n",
       "</table>\n",
       "<p>53920 rows × 10 columns</p>\n",
       "</div>"
      ],
      "text/plain": [
       "       carat        cut color clarity  depth  table  price     x     y     z\n",
       "0       0.23      Ideal     E     SI2   61.5   55.0    326  3.95  3.98  2.43\n",
       "1       0.21    Premium     E     SI1   59.8   61.0    326  3.89  3.84  2.31\n",
       "2       0.23       Good     E     VS1   56.9   65.0    327  4.05  4.07  2.31\n",
       "3       0.29    Premium     I     VS2   62.4   58.0    334  4.20  4.23  2.63\n",
       "4       0.31       Good     J     SI2   63.3   58.0    335  4.34  4.35  2.75\n",
       "...      ...        ...   ...     ...    ...    ...    ...   ...   ...   ...\n",
       "53935   0.72      Ideal     D     SI1   60.8   57.0   2757  5.75  5.76  3.50\n",
       "53936   0.72       Good     D     SI1   63.1   55.0   2757  5.69  5.75  3.61\n",
       "53937   0.70  Very Good     D     SI1   62.8   60.0   2757  5.66  5.68  3.56\n",
       "53938   0.86    Premium     H     SI2   61.0   58.0   2757  6.15  6.12  3.74\n",
       "53939   0.75      Ideal     D     SI2   62.2   55.0   2757  5.83  5.87  3.64\n",
       "\n",
       "[53920 rows x 10 columns]"
      ]
     },
     "execution_count": 13,
     "metadata": {},
     "output_type": "execute_result"
    }
   ],
   "source": [
    "df"
   ]
  },
  {
   "cell_type": "code",
   "execution_count": 14,
   "id": "f29e72b1",
   "metadata": {},
   "outputs": [
    {
     "name": "stdout",
     "output_type": "stream",
     "text": [
      "cut_unique_Values_['Ideal' 'Premium' 'Good' 'Very Good' 'Fair']\n",
      "clarity_unique_values_['SI2' 'SI1' 'VS1' 'VS2' 'VVS2' 'VVS1' 'I1' 'IF']\n",
      "color_unique_values_['E' 'I' 'J' 'H' 'F' 'G' 'D']\n"
     ]
    }
   ],
   "source": [
    "print(f'cut_unique_Values_{ df[\"cut\"].unique() }')\n",
    "print(f'clarity_unique_values_{df[\"clarity\"].unique()}')\n",
    "print(f'color_unique_values_{df[\"color\"].unique()}')"
   ]
  },
  {
   "cell_type": "code",
   "execution_count": 15,
   "id": "bed64bab",
   "metadata": {},
   "outputs": [],
   "source": [
    "df\n",
    "df_1=df"
   ]
  },
  {
   "cell_type": "code",
   "execution_count": 16,
   "id": "3c62b24f",
   "metadata": {},
   "outputs": [],
   "source": [
    "\n",
    "numeric_clarity= {\"clarity\": {\"I1\":0,\"SI2\":1,\"SI1\":2,\"VS2\":3, \"VS1\":4, \"VVS2\":5, \"VVS1\":6,\"IF\":7}}\n",
    "df_1 = df_1.replace(numeric_clarity)\n",
    "\n",
    "numeric_color = {\"color\": {\"J\":0,\"I\":1,\"H\":2,\"G\":3, \"F\":4, \"E\":5, \"D\":6}}\n",
    "df_1 = df_1.replace(numeric_color)\n",
    "\n",
    "numeric_cut = {\"cut\": {\"Fair\":0, \"Good\":1, \"Very Good\":2, \"Premium\":3, \"Ideal\":4}}\n",
    "df_1 = df_1.replace(numeric_cut)"
   ]
  },
  {
   "cell_type": "code",
   "execution_count": 17,
   "id": "6cc2110d",
   "metadata": {},
   "outputs": [
    {
     "data": {
      "text/html": [
       "<div>\n",
       "<style scoped>\n",
       "    .dataframe tbody tr th:only-of-type {\n",
       "        vertical-align: middle;\n",
       "    }\n",
       "\n",
       "    .dataframe tbody tr th {\n",
       "        vertical-align: top;\n",
       "    }\n",
       "\n",
       "    .dataframe thead th {\n",
       "        text-align: right;\n",
       "    }\n",
       "</style>\n",
       "<table border=\"1\" class=\"dataframe\">\n",
       "  <thead>\n",
       "    <tr style=\"text-align: right;\">\n",
       "      <th></th>\n",
       "      <th>carat</th>\n",
       "      <th>cut</th>\n",
       "      <th>color</th>\n",
       "      <th>clarity</th>\n",
       "      <th>depth</th>\n",
       "      <th>table</th>\n",
       "      <th>price</th>\n",
       "      <th>x</th>\n",
       "      <th>y</th>\n",
       "      <th>z</th>\n",
       "    </tr>\n",
       "  </thead>\n",
       "  <tbody>\n",
       "    <tr>\n",
       "      <th>0</th>\n",
       "      <td>0.23</td>\n",
       "      <td>4</td>\n",
       "      <td>5</td>\n",
       "      <td>1</td>\n",
       "      <td>61.5</td>\n",
       "      <td>55.0</td>\n",
       "      <td>326</td>\n",
       "      <td>3.95</td>\n",
       "      <td>3.98</td>\n",
       "      <td>2.43</td>\n",
       "    </tr>\n",
       "    <tr>\n",
       "      <th>1</th>\n",
       "      <td>0.21</td>\n",
       "      <td>3</td>\n",
       "      <td>5</td>\n",
       "      <td>2</td>\n",
       "      <td>59.8</td>\n",
       "      <td>61.0</td>\n",
       "      <td>326</td>\n",
       "      <td>3.89</td>\n",
       "      <td>3.84</td>\n",
       "      <td>2.31</td>\n",
       "    </tr>\n",
       "    <tr>\n",
       "      <th>2</th>\n",
       "      <td>0.23</td>\n",
       "      <td>1</td>\n",
       "      <td>5</td>\n",
       "      <td>4</td>\n",
       "      <td>56.9</td>\n",
       "      <td>65.0</td>\n",
       "      <td>327</td>\n",
       "      <td>4.05</td>\n",
       "      <td>4.07</td>\n",
       "      <td>2.31</td>\n",
       "    </tr>\n",
       "    <tr>\n",
       "      <th>3</th>\n",
       "      <td>0.29</td>\n",
       "      <td>3</td>\n",
       "      <td>1</td>\n",
       "      <td>3</td>\n",
       "      <td>62.4</td>\n",
       "      <td>58.0</td>\n",
       "      <td>334</td>\n",
       "      <td>4.20</td>\n",
       "      <td>4.23</td>\n",
       "      <td>2.63</td>\n",
       "    </tr>\n",
       "    <tr>\n",
       "      <th>4</th>\n",
       "      <td>0.31</td>\n",
       "      <td>1</td>\n",
       "      <td>0</td>\n",
       "      <td>1</td>\n",
       "      <td>63.3</td>\n",
       "      <td>58.0</td>\n",
       "      <td>335</td>\n",
       "      <td>4.34</td>\n",
       "      <td>4.35</td>\n",
       "      <td>2.75</td>\n",
       "    </tr>\n",
       "    <tr>\n",
       "      <th>...</th>\n",
       "      <td>...</td>\n",
       "      <td>...</td>\n",
       "      <td>...</td>\n",
       "      <td>...</td>\n",
       "      <td>...</td>\n",
       "      <td>...</td>\n",
       "      <td>...</td>\n",
       "      <td>...</td>\n",
       "      <td>...</td>\n",
       "      <td>...</td>\n",
       "    </tr>\n",
       "    <tr>\n",
       "      <th>53935</th>\n",
       "      <td>0.72</td>\n",
       "      <td>4</td>\n",
       "      <td>6</td>\n",
       "      <td>2</td>\n",
       "      <td>60.8</td>\n",
       "      <td>57.0</td>\n",
       "      <td>2757</td>\n",
       "      <td>5.75</td>\n",
       "      <td>5.76</td>\n",
       "      <td>3.50</td>\n",
       "    </tr>\n",
       "    <tr>\n",
       "      <th>53936</th>\n",
       "      <td>0.72</td>\n",
       "      <td>1</td>\n",
       "      <td>6</td>\n",
       "      <td>2</td>\n",
       "      <td>63.1</td>\n",
       "      <td>55.0</td>\n",
       "      <td>2757</td>\n",
       "      <td>5.69</td>\n",
       "      <td>5.75</td>\n",
       "      <td>3.61</td>\n",
       "    </tr>\n",
       "    <tr>\n",
       "      <th>53937</th>\n",
       "      <td>0.70</td>\n",
       "      <td>2</td>\n",
       "      <td>6</td>\n",
       "      <td>2</td>\n",
       "      <td>62.8</td>\n",
       "      <td>60.0</td>\n",
       "      <td>2757</td>\n",
       "      <td>5.66</td>\n",
       "      <td>5.68</td>\n",
       "      <td>3.56</td>\n",
       "    </tr>\n",
       "    <tr>\n",
       "      <th>53938</th>\n",
       "      <td>0.86</td>\n",
       "      <td>3</td>\n",
       "      <td>2</td>\n",
       "      <td>1</td>\n",
       "      <td>61.0</td>\n",
       "      <td>58.0</td>\n",
       "      <td>2757</td>\n",
       "      <td>6.15</td>\n",
       "      <td>6.12</td>\n",
       "      <td>3.74</td>\n",
       "    </tr>\n",
       "    <tr>\n",
       "      <th>53939</th>\n",
       "      <td>0.75</td>\n",
       "      <td>4</td>\n",
       "      <td>6</td>\n",
       "      <td>1</td>\n",
       "      <td>62.2</td>\n",
       "      <td>55.0</td>\n",
       "      <td>2757</td>\n",
       "      <td>5.83</td>\n",
       "      <td>5.87</td>\n",
       "      <td>3.64</td>\n",
       "    </tr>\n",
       "  </tbody>\n",
       "</table>\n",
       "<p>53920 rows × 10 columns</p>\n",
       "</div>"
      ],
      "text/plain": [
       "       carat  cut  color  clarity  depth  table  price     x     y     z\n",
       "0       0.23    4      5        1   61.5   55.0    326  3.95  3.98  2.43\n",
       "1       0.21    3      5        2   59.8   61.0    326  3.89  3.84  2.31\n",
       "2       0.23    1      5        4   56.9   65.0    327  4.05  4.07  2.31\n",
       "3       0.29    3      1        3   62.4   58.0    334  4.20  4.23  2.63\n",
       "4       0.31    1      0        1   63.3   58.0    335  4.34  4.35  2.75\n",
       "...      ...  ...    ...      ...    ...    ...    ...   ...   ...   ...\n",
       "53935   0.72    4      6        2   60.8   57.0   2757  5.75  5.76  3.50\n",
       "53936   0.72    1      6        2   63.1   55.0   2757  5.69  5.75  3.61\n",
       "53937   0.70    2      6        2   62.8   60.0   2757  5.66  5.68  3.56\n",
       "53938   0.86    3      2        1   61.0   58.0   2757  6.15  6.12  3.74\n",
       "53939   0.75    4      6        1   62.2   55.0   2757  5.83  5.87  3.64\n",
       "\n",
       "[53920 rows x 10 columns]"
      ]
     },
     "execution_count": 17,
     "metadata": {},
     "output_type": "execute_result"
    }
   ],
   "source": [
    "df_1"
   ]
  },
  {
   "cell_type": "code",
   "execution_count": 18,
   "id": "9540ab6c",
   "metadata": {},
   "outputs": [
    {
     "name": "stdout",
     "output_type": "stream",
     "text": [
      "<class 'pandas.core.frame.DataFrame'>\n",
      "RangeIndex: 53940 entries, 0 to 53939\n",
      "Data columns (total 10 columns):\n",
      " #   Column   Non-Null Count  Dtype  \n",
      "---  ------   --------------  -----  \n",
      " 0   carat    53940 non-null  float64\n",
      " 1   cut      53940 non-null  object \n",
      " 2   color    53940 non-null  object \n",
      " 3   clarity  53940 non-null  object \n",
      " 4   depth    53940 non-null  float64\n",
      " 5   table    53940 non-null  float64\n",
      " 6   price    53940 non-null  int64  \n",
      " 7   x        53940 non-null  float64\n",
      " 8   y        53940 non-null  float64\n",
      " 9   z        53940 non-null  float64\n",
      "dtypes: float64(6), int64(1), object(3)\n",
      "memory usage: 4.1+ MB\n"
     ]
    }
   ],
   "source": [
    "data_diamond_3.info()"
   ]
  },
  {
   "cell_type": "code",
   "execution_count": 19,
   "id": "7f9985c2",
   "metadata": {},
   "outputs": [
    {
     "data": {
      "text/plain": [
       "(53940, 10)"
      ]
     },
     "execution_count": 19,
     "metadata": {},
     "output_type": "execute_result"
    }
   ],
   "source": [
    "df_1['cut'] = df_1['cut'].astype('int64')\n",
    "df_1['color'] = df_1['color'].astype('int64')\n",
    "df_1['clarity'] = df_1['clarity'].astype('int64')\n",
    "data_diamond_3.shape"
   ]
  },
  {
   "cell_type": "code",
   "execution_count": 20,
   "id": "fea63c8e",
   "metadata": {},
   "outputs": [
    {
     "name": "stdout",
     "output_type": "stream",
     "text": [
      "<class 'pandas.core.frame.DataFrame'>\n",
      "Int64Index: 53920 entries, 0 to 53939\n",
      "Data columns (total 10 columns):\n",
      " #   Column   Non-Null Count  Dtype  \n",
      "---  ------   --------------  -----  \n",
      " 0   carat    53920 non-null  float64\n",
      " 1   cut      53920 non-null  int64  \n",
      " 2   color    53920 non-null  int64  \n",
      " 3   clarity  53920 non-null  int64  \n",
      " 4   depth    53920 non-null  float64\n",
      " 5   table    53920 non-null  float64\n",
      " 6   price    53920 non-null  int64  \n",
      " 7   x        53920 non-null  float64\n",
      " 8   y        53920 non-null  float64\n",
      " 9   z        53920 non-null  float64\n",
      "dtypes: float64(6), int64(4)\n",
      "memory usage: 4.5 MB\n"
     ]
    }
   ],
   "source": [
    "df_1.info()\n",
    "df_2=df_1"
   ]
  },
  {
   "cell_type": "code",
   "execution_count": 21,
   "id": "3e51bd85",
   "metadata": {},
   "outputs": [
    {
     "data": {
      "text/html": [
       "<div>\n",
       "<style scoped>\n",
       "    .dataframe tbody tr th:only-of-type {\n",
       "        vertical-align: middle;\n",
       "    }\n",
       "\n",
       "    .dataframe tbody tr th {\n",
       "        vertical-align: top;\n",
       "    }\n",
       "\n",
       "    .dataframe thead th {\n",
       "        text-align: right;\n",
       "    }\n",
       "</style>\n",
       "<table border=\"1\" class=\"dataframe\">\n",
       "  <thead>\n",
       "    <tr style=\"text-align: right;\">\n",
       "      <th></th>\n",
       "      <th>carat</th>\n",
       "      <th>cut</th>\n",
       "      <th>color</th>\n",
       "      <th>clarity</th>\n",
       "      <th>depth</th>\n",
       "      <th>table</th>\n",
       "      <th>price</th>\n",
       "      <th>x</th>\n",
       "      <th>y</th>\n",
       "      <th>z</th>\n",
       "    </tr>\n",
       "  </thead>\n",
       "  <tbody>\n",
       "    <tr>\n",
       "      <th>count</th>\n",
       "      <td>53920.000000</td>\n",
       "      <td>53920.000000</td>\n",
       "      <td>53920.000000</td>\n",
       "      <td>53920.000000</td>\n",
       "      <td>53920.000000</td>\n",
       "      <td>53920.000000</td>\n",
       "      <td>53920.000000</td>\n",
       "      <td>53920.000000</td>\n",
       "      <td>53920.000000</td>\n",
       "      <td>53920.000000</td>\n",
       "    </tr>\n",
       "    <tr>\n",
       "      <th>mean</th>\n",
       "      <td>0.797698</td>\n",
       "      <td>2.904228</td>\n",
       "      <td>3.405972</td>\n",
       "      <td>3.051502</td>\n",
       "      <td>61.749514</td>\n",
       "      <td>57.456834</td>\n",
       "      <td>3930.993231</td>\n",
       "      <td>5.731627</td>\n",
       "      <td>5.734887</td>\n",
       "      <td>3.540046</td>\n",
       "    </tr>\n",
       "    <tr>\n",
       "      <th>std</th>\n",
       "      <td>0.473795</td>\n",
       "      <td>1.116579</td>\n",
       "      <td>1.701272</td>\n",
       "      <td>1.647005</td>\n",
       "      <td>1.432331</td>\n",
       "      <td>2.234064</td>\n",
       "      <td>3987.280446</td>\n",
       "      <td>1.119423</td>\n",
       "      <td>1.140126</td>\n",
       "      <td>0.702530</td>\n",
       "    </tr>\n",
       "    <tr>\n",
       "      <th>min</th>\n",
       "      <td>0.200000</td>\n",
       "      <td>0.000000</td>\n",
       "      <td>0.000000</td>\n",
       "      <td>0.000000</td>\n",
       "      <td>43.000000</td>\n",
       "      <td>43.000000</td>\n",
       "      <td>326.000000</td>\n",
       "      <td>3.730000</td>\n",
       "      <td>3.680000</td>\n",
       "      <td>1.070000</td>\n",
       "    </tr>\n",
       "    <tr>\n",
       "      <th>25%</th>\n",
       "      <td>0.400000</td>\n",
       "      <td>2.000000</td>\n",
       "      <td>2.000000</td>\n",
       "      <td>2.000000</td>\n",
       "      <td>61.000000</td>\n",
       "      <td>56.000000</td>\n",
       "      <td>949.000000</td>\n",
       "      <td>4.710000</td>\n",
       "      <td>4.720000</td>\n",
       "      <td>2.910000</td>\n",
       "    </tr>\n",
       "    <tr>\n",
       "      <th>50%</th>\n",
       "      <td>0.700000</td>\n",
       "      <td>3.000000</td>\n",
       "      <td>3.000000</td>\n",
       "      <td>3.000000</td>\n",
       "      <td>61.800000</td>\n",
       "      <td>57.000000</td>\n",
       "      <td>2401.000000</td>\n",
       "      <td>5.700000</td>\n",
       "      <td>5.710000</td>\n",
       "      <td>3.530000</td>\n",
       "    </tr>\n",
       "    <tr>\n",
       "      <th>75%</th>\n",
       "      <td>1.040000</td>\n",
       "      <td>4.000000</td>\n",
       "      <td>5.000000</td>\n",
       "      <td>4.000000</td>\n",
       "      <td>62.500000</td>\n",
       "      <td>59.000000</td>\n",
       "      <td>5323.250000</td>\n",
       "      <td>6.540000</td>\n",
       "      <td>6.540000</td>\n",
       "      <td>4.040000</td>\n",
       "    </tr>\n",
       "    <tr>\n",
       "      <th>max</th>\n",
       "      <td>5.010000</td>\n",
       "      <td>4.000000</td>\n",
       "      <td>6.000000</td>\n",
       "      <td>7.000000</td>\n",
       "      <td>79.000000</td>\n",
       "      <td>95.000000</td>\n",
       "      <td>18823.000000</td>\n",
       "      <td>10.740000</td>\n",
       "      <td>58.900000</td>\n",
       "      <td>31.800000</td>\n",
       "    </tr>\n",
       "  </tbody>\n",
       "</table>\n",
       "</div>"
      ],
      "text/plain": [
       "              carat           cut         color       clarity         depth  \\\n",
       "count  53920.000000  53920.000000  53920.000000  53920.000000  53920.000000   \n",
       "mean       0.797698      2.904228      3.405972      3.051502     61.749514   \n",
       "std        0.473795      1.116579      1.701272      1.647005      1.432331   \n",
       "min        0.200000      0.000000      0.000000      0.000000     43.000000   \n",
       "25%        0.400000      2.000000      2.000000      2.000000     61.000000   \n",
       "50%        0.700000      3.000000      3.000000      3.000000     61.800000   \n",
       "75%        1.040000      4.000000      5.000000      4.000000     62.500000   \n",
       "max        5.010000      4.000000      6.000000      7.000000     79.000000   \n",
       "\n",
       "              table         price             x             y             z  \n",
       "count  53920.000000  53920.000000  53920.000000  53920.000000  53920.000000  \n",
       "mean      57.456834   3930.993231      5.731627      5.734887      3.540046  \n",
       "std        2.234064   3987.280446      1.119423      1.140126      0.702530  \n",
       "min       43.000000    326.000000      3.730000      3.680000      1.070000  \n",
       "25%       56.000000    949.000000      4.710000      4.720000      2.910000  \n",
       "50%       57.000000   2401.000000      5.700000      5.710000      3.530000  \n",
       "75%       59.000000   5323.250000      6.540000      6.540000      4.040000  \n",
       "max       95.000000  18823.000000     10.740000     58.900000     31.800000  "
      ]
     },
     "execution_count": 21,
     "metadata": {},
     "output_type": "execute_result"
    }
   ],
   "source": [
    "df_1.describe()"
   ]
  },
  {
   "cell_type": "code",
   "execution_count": null,
   "id": "1cbac29a",
   "metadata": {},
   "outputs": [],
   "source": []
  },
  {
   "cell_type": "code",
   "execution_count": 22,
   "id": "95830d7f",
   "metadata": {},
   "outputs": [],
   "source": [
    "#a. Find the min and max values for each column.\n",
    "\n",
    "x_min , x_max = min(df_1['x']),max(df_1['x'])\n",
    "\n",
    "y_min ,  y_max = min(df_1['y']) ,max(df_1['y'])\n",
    "\n",
    "z_min ,z_max = min(df_1['z']) , max(df_1['z'])\n",
    " \n",
    "carat_min , carat_max = min(df_1['carat']) , max(df_1['carat'])\n",
    "\n",
    "\n",
    "depth_min , depth_max = min(df_1['depth']),max(df_1['depth'])\n",
    "\n",
    "table_min ,  table_max = min(df_1['table']) ,max(df_1['table'])\n",
    "\n",
    "price_min ,price_max = min(df_1['price']) , max(df_1['price'])"
   ]
  },
  {
   "cell_type": "code",
   "execution_count": 23,
   "id": "584ccfd9",
   "metadata": {},
   "outputs": [],
   "source": [
    "#b. Rescale dataset columns to the range from 0 to 1\n",
    "\n",
    "df_1['x'] = (df_1['x'] - x_min) / (x_max - x_min)\n",
    "df_1['y']  = (df_1['y']  - y_min)  / (y_max  - y_min)\n",
    "df_1['z'] = (df_1['z'] - z_min)/(z_max - z_min)\n",
    "df_1['carat'] = (df_1['carat'] - carat_min)/(carat_max - carat_min)\n",
    "\n",
    "\n",
    "\n",
    "df_1['depth'] = (df_1['depth'] - depth_min) / (depth_max - depth_min)\n",
    "df_1['table']  = (df_1['table']  - table_min)  / (table_max  - table_min)\n",
    "df_1['price'] = (df_1['price'] - price_min)/(price_max - price_min)"
   ]
  },
  {
   "cell_type": "markdown",
   "id": "4f12e462",
   "metadata": {},
   "source": [
    "## "
   ]
  },
  {
   "cell_type": "code",
   "execution_count": 24,
   "id": "a472db14",
   "metadata": {},
   "outputs": [],
   "source": [
    "import random\n",
    "df_1 = df_1.sample(frac = 1)"
   ]
  },
  {
   "cell_type": "code",
   "execution_count": 25,
   "id": "a8ca177c",
   "metadata": {},
   "outputs": [
    {
     "data": {
      "text/plain": [
       "(53920, 4)"
      ]
     },
     "execution_count": 25,
     "metadata": {},
     "output_type": "execute_result"
    }
   ],
   "source": [
    "df_1_except_price_X=df_1[['x','y','z','carat']]\n",
    "df_1_except_price_X.shape"
   ]
  },
  {
   "cell_type": "code",
   "execution_count": 26,
   "id": "b555e2f3",
   "metadata": {},
   "outputs": [
    {
     "name": "stdout",
     "output_type": "stream",
     "text": [
      "(53920,)\n"
     ]
    }
   ],
   "source": [
    "df_1_price_Y=df_1['price']\n",
    "print(df_1_price_Y.shape)"
   ]
  },
  {
   "cell_type": "code",
   "execution_count": 27,
   "id": "81cd930c",
   "metadata": {},
   "outputs": [
    {
     "data": {
      "text/plain": [
       "4939     0.184138\n",
       "45413    0.072552\n",
       "48646    0.011407\n",
       "21592    0.506461\n",
       "35196    0.030545\n",
       "           ...   \n",
       "1109     0.139915\n",
       "678      0.136400\n",
       "1731     0.012705\n",
       "22520    0.553171\n",
       "43948    0.010272\n",
       "Name: price, Length: 53920, dtype: float64"
      ]
     },
     "execution_count": 27,
     "metadata": {},
     "output_type": "execute_result"
    }
   ],
   "source": [
    "df_1_price_Y"
   ]
  },
  {
   "cell_type": "markdown",
   "id": "a2c7976b",
   "metadata": {},
   "source": [
    "### STEP_8__Divide the dataset into training and test, as 80% training, 20% testing dataset\n",
    "### STEP_6__Choose your target Y\n",
    "### STEP_7__Create the data matrices for X (input) and Y (target) in a shape X = 𝑁 x 𝑑 and Y = 𝑁 x 1, where 𝑁 is a number of data samples and 𝑑 is a number of features.\n"
   ]
  },
  {
   "cell_type": "code",
   "execution_count": 28,
   "id": "39802fb5",
   "metadata": {},
   "outputs": [],
   "source": [
    "import random\n",
    "random.seed(46)\n",
    "\n",
    "train_size = int(len(df_1_except_price_X) * 0.8)\n",
    "\n",
    "X_train = df_1_except_price_X[0:train_size]\n",
    "Y_train = df_1_price_Y[0:train_size]\n",
    "\n",
    "X_test = df_1_except_price_X[train_size : ]\n",
    "Y_test = df_1_price_Y[train_size : ]\n",
    "\n",
    "X_train = X_train.to_numpy()\n",
    "Y_train = Y_train.to_numpy()\n",
    "X_test = X_test.to_numpy()\n",
    "Y_test = Y_test.to_numpy()\n"
   ]
  },
  {
   "cell_type": "markdown",
   "id": "c74748ea",
   "metadata": {},
   "source": [
    "### STEP_9__Print the shape of your X_train, y_train, X_test, y_test."
   ]
  },
  {
   "cell_type": "code",
   "execution_count": 29,
   "id": "797caed2",
   "metadata": {},
   "outputs": [
    {
     "name": "stdout",
     "output_type": "stream",
     "text": [
      "(43136, 4)\n",
      "(43136,)\n",
      "(10784, 4)\n",
      "(10784,)\n"
     ]
    }
   ],
   "source": [
    "print(X_train.shape)\n",
    "print(Y_train.shape)\n",
    "\n",
    "print(X_test.shape)\n",
    "print(Y_test.shape)"
   ]
  },
  {
   "cell_type": "markdown",
   "id": "4222dfc2",
   "metadata": {},
   "source": [
    "Use your implementation from Part II and extend it to Ridge Regression.\n",
    "Implement parameter estimation for ridge regression by minimizing the regularized\n",
    "squared loss as follows:\n",
    "    \n",
    "   #### 𝐽(𝒘) = (0.5) * (∑ <i=1 to N> ((𝑦_𝑖 − (𝑤^𝑇 ) * 𝑥_𝑖 )^2))  +  (0.5) * (𝜆 * (𝒘^𝑇) * 𝒘) \n",
    "    \n",
    "    In matrix-vector notation, the squared loss can be written as:\n",
    "   #### 𝐽(𝒘) = (0.5) * (∑ <i=1 to N> ((𝒚 − 𝑿 * 𝒘)^𝑇) * (𝒚 − 𝑿 * 𝒘))  +  (0.5) * (𝜆 * (𝒘^𝑇) * 𝒘)   \n",
    "    \n",
    "    OLS equation for Ridge regression can be estimated as\n",
    "   #### 𝒘 = (((𝑿^𝑇) * 𝑿 + 𝝀 * 𝑰)^(−1)) * (𝑿^𝑇) * y\n"
   ]
  },
  {
   "cell_type": "code",
   "execution_count": 37,
   "id": "3d5411f5",
   "metadata": {},
   "outputs": [],
   "source": [
    "\n",
    "\n",
    "class RidgeRegression_with_GradientDescent():\n",
    "    \n",
    "    def __init__(self, l2_regularizer=0.1, learning_rate=1e-6, epochs=10000):\n",
    "        self.weights = None\n",
    "        self.l2_regularizer = l2_regularizer\n",
    "        self.learning_rate = learning_rate\n",
    "        self.epochs = epochs\n",
    "        self.cost_history = []\n",
    "        self.gradient_history = []\n",
    "\n",
    "    def fit(self):\n",
    "        inverse_term = np.linalg.inv((np.matmul(X_train.T, X_train)) + self.l2_regularizer * np.identity(X_train.shape[1]))\n",
    "        self.weights = np.matmul(np.matmul(inverse_term, X_train.T), Y_train)     \n",
    "        for i in range(self.epochs):\n",
    "            self.cost_history.append(self.cost(Y_train, X_train, self.weights))\n",
    "            gradient = self.gradient(Y_train, X_train, self.weights)\n",
    "            self.gradient_history.append(gradient)\n",
    "            self.weights -= self.learning_rate * gradient\n",
    "        return self.weights\n",
    "\n",
    "    def gradient(self, Y_train, X_train, weights):\n",
    "        gradient = -2 * np.matmul(X_train.T, (Y_train - np.matmul(X_train, self.weights))) + 2 * self.l2_regularizer * self.weights\n",
    "        return gradient\n",
    "\n",
    "    def cost(self, Y_train, X_train, weights):\n",
    "        residual = np.matmul((Y_train - np.matmul(X_train, self.weights)).T, (Y_train - np.matmul(X_train, self.weights))) + self.l2_regularizer * np.matmul(self.weights.T, self.weights)\n",
    "        return residual/len(Y_train)\n",
    "\n",
    "    def predict(self, X):\n",
    "        Y_pred = np.matmul(X, self.weights)\n",
    "        return Y_pred\n"
   ]
  },
  {
   "cell_type": "code",
   "execution_count": 38,
   "id": "39f965f4",
   "metadata": {},
   "outputs": [],
   "source": [
    "# initialize the class object\n",
    "model = RidgeRegression_with_GradientDescent()"
   ]
  },
  {
   "cell_type": "code",
   "execution_count": 39,
   "id": "d2722316",
   "metadata": {},
   "outputs": [
    {
     "name": "stdout",
     "output_type": "stream",
     "text": [
      "Time taken to train the model: 8.08 seconds\n",
      "Model weights: [-0.447288988072635, 1.3583995308398222, -0.6421401579630198, 2.5979623056523864]\n"
     ]
    }
   ],
   "source": [
    "# fit the model and get weights vector\n",
    "# fit the model and get weights vector\n",
    "\n",
    "\n",
    "start_time = time.perf_counter()\n",
    "weights = model.fit()\n",
    "end_time = time.perf_counter()\n",
    "training_time = end_time - start_time\n",
    "print(f\"Time taken to train the model: {training_time:.2f} seconds\")\n",
    "weights_list = weights.tolist()\n",
    "print(\"Model weights:\", weights_list)"
   ]
  },
  {
   "cell_type": "code",
   "execution_count": 40,
   "id": "9a1fc371",
   "metadata": {},
   "outputs": [
    {
     "data": {
      "text/plain": [
       "0.0068021410272194795"
      ]
     },
     "execution_count": 40,
     "metadata": {},
     "output_type": "execute_result"
    }
   ],
   "source": [
    "# Cost_Function_Training test\n",
    "cost_function_train = model.cost(Y_train, X_train, weights)\n",
    "cost_function_train"
   ]
  },
  {
   "cell_type": "code",
   "execution_count": 41,
   "id": "02c2293e",
   "metadata": {},
   "outputs": [
    {
     "data": {
      "text/plain": [
       "0.006888719101668411"
      ]
     },
     "execution_count": 41,
     "metadata": {},
     "output_type": "execute_result"
    }
   ],
   "source": [
    "# Cost_Function_testing test\n",
    "cost_function_test = model.cost(Y_test, X_test, weights)\n",
    "cost_function_test"
   ]
  },
  {
   "cell_type": "code",
   "execution_count": 45,
   "id": "7ea82979",
   "metadata": {},
   "outputs": [
    {
     "data": {
      "text/plain": [
       "array([ 0.27229337,  0.07078333, -0.02166563, ...,  0.00892461,\n",
       "        0.00088614,  0.00373351])"
      ]
     },
     "execution_count": 45,
     "metadata": {},
     "output_type": "execute_result"
    }
   ],
   "source": [
    "Y_pred_test = model.predict( X_train)\n",
    "Y_pred_test"
   ]
  },
  {
   "cell_type": "code",
   "execution_count": 48,
   "id": "01ddab8e",
   "metadata": {},
   "outputs": [
    {
     "data": {
      "text/plain": [
       "array([0.27241718, 0.07673948, 0.08590126, ..., 0.00678691, 0.48921492,\n",
       "       0.00098813])"
      ]
     },
     "execution_count": 48,
     "metadata": {},
     "output_type": "execute_result"
    }
   ],
   "source": [
    "# predict the output on test set\n",
    "Y_test_prediction = model.predict(X_test)\n",
    "Y_test_prediction"
   ]
  },
  {
   "cell_type": "code",
   "execution_count": 49,
   "id": "4d3112e5",
   "metadata": {},
   "outputs": [
    {
     "name": "stdout",
     "output_type": "stream",
     "text": [
      "The cost of inbuilt function is 0.01\n"
     ]
    }
   ],
   "source": [
    "# compare model using inbuilt sklearn function\n",
    "from sklearn.linear_model import Ridge\n",
    "from sklearn.metrics import mean_squared_error\n",
    "clf = Ridge(alpha=0.1,solver='sag')\n",
    "x = clf.fit(X_train, Y_train)\n",
    "# predict the output for the train set\n",
    "y_pred_inbuiltfuntioon = clf.predict(X_train)\n",
    "mse1 = mean_squared_error(Y_train,y_pred_inbuiltfuntioon)\n",
    "print(f'The cost of inbuilt function is {round(mse1,2)}')"
   ]
  },
  {
   "cell_type": "code",
   "execution_count": null,
   "id": "6b8b0e0a",
   "metadata": {},
   "outputs": [],
   "source": []
  },
  {
   "cell_type": "markdown",
   "id": "b831d6bc",
   "metadata": {},
   "source": [
    "### STEP_11__Get the predictions and calculating the sum of squared errors:\n"
   ]
  },
  {
   "cell_type": "code",
   "execution_count": null,
   "id": "39bd0a6f",
   "metadata": {},
   "outputs": [],
   "source": [
    "# calculate the rmse of train set\n",
    "rmse = np.sqrt(cost_function_train)\n",
    "rmse"
   ]
  },
  {
   "cell_type": "code",
   "execution_count": null,
   "id": "632942e7",
   "metadata": {},
   "outputs": [],
   "source": [
    "# calculate the rmse of test set\n",
    "rmse = np.sqrt(cost_function_test)\n",
    "rmse"
   ]
  },
  {
   "cell_type": "markdown",
   "id": "ed8fd82d",
   "metadata": {},
   "source": [
    "### STEP_12__Plot the predictions vs the actual targets\n"
   ]
  },
  {
   "cell_type": "code",
   "execution_count": null,
   "id": "84376683",
   "metadata": {},
   "outputs": [],
   "source": [
    "trace_pred = go.Scatter(x=np.arange(len(Y_train_prediction)), y=Y_train_prediction.reshape(-1),\n",
    "                        mode='markers', name='Predicted')\n",
    "\n",
    "trace_actual = go.Scatter(x=np.arange(len(Y_train)), y=Y_train.reshape(-1),\n",
    "                          mode='markers', name='Actual', marker=dict(color='red'))\n",
    "\n",
    "data = [trace_pred, trace_actual]\n",
    "\n",
    "layout = go.Layout(title='Predicted vs TARGET value for training_set',legend=dict(x=0, y=1))\n",
    "\n",
    "\n",
    "fig = go.Figure(data=data, layout=layout)\n",
    "fig.show()"
   ]
  },
  {
   "cell_type": "code",
   "execution_count": null,
   "id": "ced8d802",
   "metadata": {},
   "outputs": [],
   "source": [
    "fig = go.Figure()\n",
    "\n",
    "fig.add_trace(go.Scatter(\n",
    "    x=list(range(len(Y_test_prediction))),\n",
    "    y=Y_test_prediction,\n",
    "    mode='markers',\n",
    "    name='Predicted'\n",
    "))\n",
    "\n",
    "fig.add_trace(go.Scatter(\n",
    "    x=list(range(len(Y_test))),\n",
    "    y=Y_test,\n",
    "    mode='markers',\n",
    "    name='Actual'\n",
    "))\n",
    "\n",
    "fig.update_layout(\n",
    "    title='Predicted vs TARGET value for testing_set',\n",
    "    legend=dict(\n",
    "        x=0,\n",
    "        y=1,\n",
    "        bgcolor='rgba(255, 255, 255, 0.5)',\n",
    "        bordercolor='rgba(0, 0, 0, 0.5)',\n",
    "        borderwidth=1\n",
    "    )\n",
    ")\n",
    "fig.show()"
   ]
  },
  {
   "cell_type": "code",
   "execution_count": null,
   "id": "fdd6c268",
   "metadata": {},
   "outputs": [],
   "source": []
  }
 ],
 "metadata": {
  "kernelspec": {
   "display_name": "Python 3 (ipykernel)",
   "language": "python",
   "name": "python3"
  },
  "language_info": {
   "codemirror_mode": {
    "name": "ipython",
    "version": 3
   },
   "file_extension": ".py",
   "mimetype": "text/x-python",
   "name": "python",
   "nbconvert_exporter": "python",
   "pygments_lexer": "ipython3",
   "version": "3.9.12"
  }
 },
 "nbformat": 4,
 "nbformat_minor": 5
}
