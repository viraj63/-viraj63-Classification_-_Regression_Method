{
 "cells": [
  {
   "cell_type": "code",
   "execution_count": 3,
   "id": "0edce71b",
   "metadata": {},
   "outputs": [
    {
     "ename": "ModuleNotFoundError",
     "evalue": "No module named 'matplotlib.colors'",
     "output_type": "error",
     "traceback": [
      "\u001b[1;31m---------------------------------------------------------------------------\u001b[0m",
      "\u001b[1;31mModuleNotFoundError\u001b[0m                       Traceback (most recent call last)",
      "Input \u001b[1;32mIn [3]\u001b[0m, in \u001b[0;36m<cell line: 5>\u001b[1;34m()\u001b[0m\n\u001b[0;32m      3\u001b[0m \u001b[38;5;28;01mimport\u001b[39;00m \u001b[38;5;21;01mnumpy\u001b[39;00m \u001b[38;5;28;01mas\u001b[39;00m \u001b[38;5;21;01mnp\u001b[39;00m\n\u001b[0;32m      4\u001b[0m \u001b[38;5;28;01mimport\u001b[39;00m \u001b[38;5;21;01mpandas\u001b[39;00m \u001b[38;5;28;01mas\u001b[39;00m \u001b[38;5;21;01mpd\u001b[39;00m  \n\u001b[1;32m----> 5\u001b[0m \u001b[38;5;28;01mimport\u001b[39;00m \u001b[38;5;21;01mseaborn\u001b[39;00m \u001b[38;5;28;01mas\u001b[39;00m \u001b[38;5;21;01msns\u001b[39;00m \n\u001b[0;32m      7\u001b[0m \u001b[38;5;28;01mimport\u001b[39;00m \u001b[38;5;21;01mplotly\u001b[39;00m\u001b[38;5;21;01m.\u001b[39;00m\u001b[38;5;21;01mexpress\u001b[39;00m \u001b[38;5;28;01mas\u001b[39;00m \u001b[38;5;21;01mpx\u001b[39;00m\n\u001b[0;32m      8\u001b[0m \u001b[38;5;28;01mimport\u001b[39;00m \u001b[38;5;21;01mplotly\u001b[39;00m\u001b[38;5;21;01m.\u001b[39;00m\u001b[38;5;21;01mgraph_objects\u001b[39;00m \u001b[38;5;28;01mas\u001b[39;00m \u001b[38;5;21;01mgo\u001b[39;00m\n",
      "File \u001b[1;32m~\\anaconda3\\lib\\site-packages\\seaborn\\__init__.py:2\u001b[0m, in \u001b[0;36m<module>\u001b[1;34m\u001b[0m\n\u001b[0;32m      1\u001b[0m \u001b[38;5;66;03m# Import seaborn objects\u001b[39;00m\n\u001b[1;32m----> 2\u001b[0m \u001b[38;5;28;01mfrom\u001b[39;00m \u001b[38;5;21;01m.\u001b[39;00m\u001b[38;5;21;01mrcmod\u001b[39;00m \u001b[38;5;28;01mimport\u001b[39;00m \u001b[38;5;241m*\u001b[39m  \u001b[38;5;66;03m# noqa: F401,F403\u001b[39;00m\n\u001b[0;32m      3\u001b[0m \u001b[38;5;28;01mfrom\u001b[39;00m \u001b[38;5;21;01m.\u001b[39;00m\u001b[38;5;21;01mutils\u001b[39;00m \u001b[38;5;28;01mimport\u001b[39;00m \u001b[38;5;241m*\u001b[39m  \u001b[38;5;66;03m# noqa: F401,F403\u001b[39;00m\n\u001b[0;32m      4\u001b[0m \u001b[38;5;28;01mfrom\u001b[39;00m \u001b[38;5;21;01m.\u001b[39;00m\u001b[38;5;21;01mpalettes\u001b[39;00m \u001b[38;5;28;01mimport\u001b[39;00m \u001b[38;5;241m*\u001b[39m  \u001b[38;5;66;03m# noqa: F401,F403\u001b[39;00m\n",
      "File \u001b[1;32m~\\anaconda3\\lib\\site-packages\\seaborn\\rcmod.py:7\u001b[0m, in \u001b[0;36m<module>\u001b[1;34m\u001b[0m\n\u001b[0;32m      5\u001b[0m \u001b[38;5;28;01mimport\u001b[39;00m \u001b[38;5;21;01mmatplotlib\u001b[39;00m \u001b[38;5;28;01mas\u001b[39;00m \u001b[38;5;21;01mmpl\u001b[39;00m\n\u001b[0;32m      6\u001b[0m \u001b[38;5;28;01mfrom\u001b[39;00m \u001b[38;5;21;01mcycler\u001b[39;00m \u001b[38;5;28;01mimport\u001b[39;00m cycler\n\u001b[1;32m----> 7\u001b[0m \u001b[38;5;28;01mfrom\u001b[39;00m \u001b[38;5;21;01m.\u001b[39;00m \u001b[38;5;28;01mimport\u001b[39;00m palettes\n\u001b[0;32m     10\u001b[0m __all__ \u001b[38;5;241m=\u001b[39m [\u001b[38;5;124m\"\u001b[39m\u001b[38;5;124mset_theme\u001b[39m\u001b[38;5;124m\"\u001b[39m, \u001b[38;5;124m\"\u001b[39m\u001b[38;5;124mset\u001b[39m\u001b[38;5;124m\"\u001b[39m, \u001b[38;5;124m\"\u001b[39m\u001b[38;5;124mreset_defaults\u001b[39m\u001b[38;5;124m\"\u001b[39m, \u001b[38;5;124m\"\u001b[39m\u001b[38;5;124mreset_orig\u001b[39m\u001b[38;5;124m\"\u001b[39m,\n\u001b[0;32m     11\u001b[0m            \u001b[38;5;124m\"\u001b[39m\u001b[38;5;124maxes_style\u001b[39m\u001b[38;5;124m\"\u001b[39m, \u001b[38;5;124m\"\u001b[39m\u001b[38;5;124mset_style\u001b[39m\u001b[38;5;124m\"\u001b[39m, \u001b[38;5;124m\"\u001b[39m\u001b[38;5;124mplotting_context\u001b[39m\u001b[38;5;124m\"\u001b[39m, \u001b[38;5;124m\"\u001b[39m\u001b[38;5;124mset_context\u001b[39m\u001b[38;5;124m\"\u001b[39m,\n\u001b[0;32m     12\u001b[0m            \u001b[38;5;124m\"\u001b[39m\u001b[38;5;124mset_palette\u001b[39m\u001b[38;5;124m\"\u001b[39m]\n\u001b[0;32m     15\u001b[0m _style_keys \u001b[38;5;241m=\u001b[39m [\n\u001b[0;32m     16\u001b[0m \n\u001b[0;32m     17\u001b[0m     \u001b[38;5;124m\"\u001b[39m\u001b[38;5;124maxes.facecolor\u001b[39m\u001b[38;5;124m\"\u001b[39m,\n\u001b[1;32m   (...)\u001b[0m\n\u001b[0;32m     52\u001b[0m \n\u001b[0;32m     53\u001b[0m ]\n",
      "File \u001b[1;32m~\\anaconda3\\lib\\site-packages\\seaborn\\palettes.py:9\u001b[0m, in \u001b[0;36m<module>\u001b[1;34m\u001b[0m\n\u001b[0;32m      5\u001b[0m \u001b[38;5;28;01mimport\u001b[39;00m \u001b[38;5;21;01mmatplotlib\u001b[39;00m \u001b[38;5;28;01mas\u001b[39;00m \u001b[38;5;21;01mmpl\u001b[39;00m\n\u001b[0;32m      7\u001b[0m \u001b[38;5;28;01mfrom\u001b[39;00m \u001b[38;5;21;01m.\u001b[39;00m\u001b[38;5;21;01mexternal\u001b[39;00m \u001b[38;5;28;01mimport\u001b[39;00m husl\n\u001b[1;32m----> 9\u001b[0m \u001b[38;5;28;01mfrom\u001b[39;00m \u001b[38;5;21;01m.\u001b[39;00m\u001b[38;5;21;01mutils\u001b[39;00m \u001b[38;5;28;01mimport\u001b[39;00m desaturate, get_color_cycle\n\u001b[0;32m     10\u001b[0m \u001b[38;5;28;01mfrom\u001b[39;00m \u001b[38;5;21;01m.\u001b[39;00m\u001b[38;5;21;01mcolors\u001b[39;00m \u001b[38;5;28;01mimport\u001b[39;00m xkcd_rgb, crayons\n\u001b[0;32m     13\u001b[0m __all__ \u001b[38;5;241m=\u001b[39m [\u001b[38;5;124m\"\u001b[39m\u001b[38;5;124mcolor_palette\u001b[39m\u001b[38;5;124m\"\u001b[39m, \u001b[38;5;124m\"\u001b[39m\u001b[38;5;124mhls_palette\u001b[39m\u001b[38;5;124m\"\u001b[39m, \u001b[38;5;124m\"\u001b[39m\u001b[38;5;124mhusl_palette\u001b[39m\u001b[38;5;124m\"\u001b[39m, \u001b[38;5;124m\"\u001b[39m\u001b[38;5;124mmpl_palette\u001b[39m\u001b[38;5;124m\"\u001b[39m,\n\u001b[0;32m     14\u001b[0m            \u001b[38;5;124m\"\u001b[39m\u001b[38;5;124mdark_palette\u001b[39m\u001b[38;5;124m\"\u001b[39m, \u001b[38;5;124m\"\u001b[39m\u001b[38;5;124mlight_palette\u001b[39m\u001b[38;5;124m\"\u001b[39m, \u001b[38;5;124m\"\u001b[39m\u001b[38;5;124mdiverging_palette\u001b[39m\u001b[38;5;124m\"\u001b[39m,\n\u001b[0;32m     15\u001b[0m            \u001b[38;5;124m\"\u001b[39m\u001b[38;5;124mblend_palette\u001b[39m\u001b[38;5;124m\"\u001b[39m, \u001b[38;5;124m\"\u001b[39m\u001b[38;5;124mxkcd_palette\u001b[39m\u001b[38;5;124m\"\u001b[39m, \u001b[38;5;124m\"\u001b[39m\u001b[38;5;124mcrayon_palette\u001b[39m\u001b[38;5;124m\"\u001b[39m,\n\u001b[0;32m     16\u001b[0m            \u001b[38;5;124m\"\u001b[39m\u001b[38;5;124mcubehelix_palette\u001b[39m\u001b[38;5;124m\"\u001b[39m, \u001b[38;5;124m\"\u001b[39m\u001b[38;5;124mset_color_codes\u001b[39m\u001b[38;5;124m\"\u001b[39m]\n",
      "File \u001b[1;32m~\\anaconda3\\lib\\site-packages\\seaborn\\utils.py:13\u001b[0m, in \u001b[0;36m<module>\u001b[1;34m\u001b[0m\n\u001b[0;32m     11\u001b[0m \u001b[38;5;28;01mimport\u001b[39;00m \u001b[38;5;21;01mpandas\u001b[39;00m \u001b[38;5;28;01mas\u001b[39;00m \u001b[38;5;21;01mpd\u001b[39;00m\n\u001b[0;32m     12\u001b[0m \u001b[38;5;28;01mimport\u001b[39;00m \u001b[38;5;21;01mmatplotlib\u001b[39;00m \u001b[38;5;28;01mas\u001b[39;00m \u001b[38;5;21;01mmpl\u001b[39;00m\n\u001b[1;32m---> 13\u001b[0m \u001b[38;5;28;01mimport\u001b[39;00m \u001b[38;5;21;01mmatplotlib\u001b[39;00m\u001b[38;5;21;01m.\u001b[39;00m\u001b[38;5;21;01mcolors\u001b[39;00m \u001b[38;5;28;01mas\u001b[39;00m \u001b[38;5;21;01mmplcol\u001b[39;00m\n\u001b[0;32m     14\u001b[0m \u001b[38;5;28;01mimport\u001b[39;00m \u001b[38;5;21;01mmatplotlib\u001b[39;00m\u001b[38;5;21;01m.\u001b[39;00m\u001b[38;5;21;01mpyplot\u001b[39;00m \u001b[38;5;28;01mas\u001b[39;00m \u001b[38;5;21;01mplt\u001b[39;00m\n\u001b[0;32m     15\u001b[0m \u001b[38;5;28;01mfrom\u001b[39;00m \u001b[38;5;21;01mmatplotlib\u001b[39;00m\u001b[38;5;21;01m.\u001b[39;00m\u001b[38;5;21;01mcbook\u001b[39;00m \u001b[38;5;28;01mimport\u001b[39;00m normalize_kwargs\n",
      "\u001b[1;31mModuleNotFoundError\u001b[0m: No module named 'matplotlib.colors'"
     ]
    }
   ],
   "source": [
    "#all required libraries imported \n",
    "#import matplotlib.pyplot as plt\n",
    "import numpy as np\n",
    "import pandas as pd  \n",
    "import seaborn as sns \n"
   ]
  },
  {
   "cell_type": "markdown",
   "id": "939f6290",
   "metadata": {},
   "source": [
    "## Step 2 - Reading the data and printing the statistics."
   ]
  },
  {
   "cell_type": "code",
   "execution_count": null,
   "id": "6f7a4c5f",
   "metadata": {},
   "outputs": [],
   "source": [
    "#reading the File\n",
    "#pd.set_option('display.max_rows', None)\n",
    "data_diamond=pd.read_csv(\"C:/Users/viraj/Code_a/ML_Prof_Alina/Assignment_1/datasets (1)/datasets/diamond.csv\")"
   ]
  },
  {
   "cell_type": "code",
   "execution_count": null,
   "id": "b3159524",
   "metadata": {},
   "outputs": [],
   "source": [
    "data_diamond.head()"
   ]
  },
  {
   "cell_type": "code",
   "execution_count": null,
   "id": "292a12c3",
   "metadata": {},
   "outputs": [],
   "source": [
    "#checking the null values\n",
    "data_diamond.isnull().sum() "
   ]
  },
  {
   "cell_type": "code",
   "execution_count": null,
   "id": "4ec32146",
   "metadata": {},
   "outputs": [],
   "source": [
    "data_diamond.info()"
   ]
  },
  {
   "cell_type": "code",
   "execution_count": null,
   "id": "e62b47f1",
   "metadata": {},
   "outputs": [],
   "source": [
    "data_diamond.describe().transpose()"
   ]
  },
  {
   "cell_type": "code",
   "execution_count": null,
   "id": "9b9beb4a",
   "metadata": {},
   "outputs": [],
   "source": [
    "#clarity a measurement of how clear the diamond is (I1 (worst), SI2, SI1, VS2, VS1, VVS2, VVS1, IF (best))"
   ]
  },
  {
   "cell_type": "code",
   "execution_count": null,
   "id": "33e39e71",
   "metadata": {},
   "outputs": [],
   "source": [
    "data_diamond = data_diamond.drop([\"Unnamed: 0\"], axis=1)"
   ]
  },
  {
   "cell_type": "code",
   "execution_count": null,
   "id": "da69bb8c",
   "metadata": {},
   "outputs": [],
   "source": [
    "#printing the column names\n",
    "for col in data_diamond.columns:\n",
    "    print(col)"
   ]
  },
  {
   "cell_type": "code",
   "execution_count": null,
   "id": "523ebdd0",
   "metadata": {},
   "outputs": [],
   "source": [
    "data_diamond.head().transpose()"
   ]
  },
  {
   "cell_type": "markdown",
   "id": "65b8c586",
   "metadata": {},
   "source": [
    "Using any data visualization library (e.g. matplotlib, seaborn, plotly), provide at\n",
    "least 5 visualization graphs related to your dataset. You can utilize any columns\n",
    "or a combination of columns in your dataset to generate graphs. E.g. correlation\n",
    "matrix, features vs. the target, counts of categorical features vs. the target."
   ]
  },
  {
   "cell_type": "code",
   "execution_count": null,
   "id": "8389e1d7",
   "metadata": {},
   "outputs": [],
   "source": [
    "data_diamond = pd.DataFrame(data_diamond)"
   ]
  },
  {
   "cell_type": "code",
   "execution_count": null,
   "id": "ca3b02cd",
   "metadata": {},
   "outputs": [],
   "source": [
    "\n",
    "data_diamond.drop(data_diamond[data_diamond['x'] == 0].index, inplace = True)\n",
    "data_diamond.drop(data_diamond[data_diamond['y'] == 0].index, inplace = True)\n",
    "data_diamond.drop(data_diamond[data_diamond['z'] == 0].index, inplace = True)"
   ]
  },
  {
   "cell_type": "code",
   "execution_count": null,
   "id": "43232b60",
   "metadata": {},
   "outputs": [],
   "source": [
    "data_diamond.describe()"
   ]
  },
  {
   "cell_type": "code",
   "execution_count": null,
   "id": "fd654168",
   "metadata": {},
   "outputs": [],
   "source": [
    "data_diamond[['cut','color','clarity']] = data_diamond[['cut','color','clarity']].astype('category')"
   ]
  },
  {
   "cell_type": "code",
   "execution_count": null,
   "id": "fac389d8",
   "metadata": {},
   "outputs": [],
   "source": [
    "# Converting Categorical value into numerical value\n",
    "\"\"\"\"data_diamond['cut'] = pd.factorize(data_diamond['cut'])[0]\n",
    "data_diamond['color'] = pd.factorize(data_diamond['color'])[0]\n",
    "data_diamond['clarity'] = pd.factorize(data_diamond['clarity'])[0]\"\"\"\n"
   ]
  },
  {
   "cell_type": "code",
   "execution_count": null,
   "id": "5e8c311b",
   "metadata": {},
   "outputs": [],
   "source": [
    "data_diamond['cut'].unique()"
   ]
  },
  {
   "cell_type": "code",
   "execution_count": null,
   "id": "5e5f440e",
   "metadata": {},
   "outputs": [],
   "source": [
    "data_diamond['color'].unique()"
   ]
  },
  {
   "cell_type": "code",
   "execution_count": null,
   "id": "4925feb4",
   "metadata": {},
   "outputs": [],
   "source": [
    "data_diamond['clarity'].unique()\n",
    "data1=data_diamond\n",
    "data_2=data_diamond"
   ]
  },
  {
   "cell_type": "code",
   "execution_count": null,
   "id": "e18a6689",
   "metadata": {},
   "outputs": [],
   "source": [
    "#clarity a measurement of how clear the diamond is (I1 (worst), SI2, SI1, VS2, VS1, VVS2, VVS1, IF (best))\n",
    "#color diamond colour, from J (worst) to D (best)\n",
    "#cut quality of the cut (Fair, Good, Very Good, Premium, Ideal)"
   ]
  },
  {
   "cell_type": "code",
   "execution_count": null,
   "id": "3130762b",
   "metadata": {},
   "outputs": [],
   "source": [
    "numeric_cut = {\"cut\": {\"Fair\":0, \"Good\":1, \"Very Good\":2, \"Premium\":3, \"Ideal\":4}}\n",
    "data_diamond = data_diamond.replace(numeric_cut)\n",
    "\n",
    "numeric_color = {\"color\": {\"J\":0,\"I\":1,\"H\":2,\"G\":3, \"F\":4, \"E\":5, \"D\":6}}\n",
    "data_diamond = data_diamond.replace(numeric_color)\n",
    "\n",
    "\n",
    "numeric_clarity= {\"clarity\": {\"I1\":0,\"SI2\":1,\"SI1\":2,\"VS2\":3, \"VS1\":4, \"VVS2\":5, \"VVS1\":6,\"IF\":7}}\n",
    "data_diamond = data_diamond.replace(numeric_clarity)"
   ]
  },
  {
   "cell_type": "code",
   "execution_count": null,
   "id": "af272d34",
   "metadata": {},
   "outputs": [],
   "source": [
    "data_diamond"
   ]
  },
  {
   "cell_type": "code",
   "execution_count": null,
   "id": "cb080082",
   "metadata": {},
   "outputs": [],
   "source": [
    "data_diamond.info()"
   ]
  },
  {
   "cell_type": "code",
   "execution_count": null,
   "id": "24b1eba6",
   "metadata": {},
   "outputs": [],
   "source": [
    "data_diamond['cut'] = data_diamond['cut'].astype('int64')\n",
    "data_diamond['color'] = data_diamond['color'].astype('int64')\n",
    "data_diamond['clarity'] = data_diamond['clarity'].astype('int64')"
   ]
  },
  {
   "cell_type": "code",
   "execution_count": null,
   "id": "d45d9cfc",
   "metadata": {},
   "outputs": [],
   "source": [
    "data_diamond.shape"
   ]
  },
  {
   "cell_type": "code",
   "execution_count": null,
   "id": "7ff50c9f",
   "metadata": {},
   "outputs": [],
   "source": [
    "data_diamond.describe()"
   ]
  },
  {
   "cell_type": "code",
   "execution_count": null,
   "id": "d8b9a1a2",
   "metadata": {},
   "outputs": [],
   "source": [
    "cols = [\"#A0522D\",\"#A52A2A\",\"#CD853F\",\"#F4A460\",\"#DEB887\"]\n",
    "#fig= sns.pairplot(data_diamond, hue= \"cut\", palette = cols)"
   ]
  },
  {
   "cell_type": "code",
   "execution_count": null,
   "id": "f55e5db3",
   "metadata": {},
   "outputs": [],
   "source": [
    "data_diamond\n",
    "#{\"Fair\":0, \"Good\":1, \"Very Good\":2, \"Premium\":3, \"Ideal\":4}"
   ]
  },
  {
   "cell_type": "code",
   "execution_count": null,
   "id": "210abb9b",
   "metadata": {},
   "outputs": [],
   "source": [
    "data2=data1['cut'].value_counts()\n",
    "data2"
   ]
  },
  {
   "cell_type": "code",
   "execution_count": null,
   "id": "45469c89",
   "metadata": {},
   "outputs": [],
   "source": [
    "dt=px.bar(data2)\n",
    "dt.update_layout(xaxis_title=\"Diamond_Quality\", yaxis_title=\"Count\")\n",
    "#from the below graph we could clearly see that the diamond dataset has more ideal condition diamonds."
   ]
  },
  {
   "cell_type": "code",
   "execution_count": null,
   "id": "252f172d",
   "metadata": {},
   "outputs": [],
   "source": [
    "data2=data1[['cut','price']]"
   ]
  },
  {
   "cell_type": "code",
   "execution_count": null,
   "id": "ea1c7c8e",
   "metadata": {},
   "outputs": [],
   "source": [
    "fig=px.box(data2,x='cut',y='price')\n",
    "fig.update_layout(xaxis_title=\"CUT\", yaxis_title=\"PRICE\")"
   ]
  },
  {
   "cell_type": "code",
   "execution_count": null,
   "id": "75cb7750",
   "metadata": {},
   "outputs": [],
   "source": [
    "data3=data1['clarity'].value_counts()\n",
    "px.bar(data3)"
   ]
  },
  {
   "cell_type": "code",
   "execution_count": null,
   "id": "f44d3e66",
   "metadata": {},
   "outputs": [],
   "source": [
    "data1"
   ]
  },
  {
   "cell_type": "code",
   "execution_count": null,
   "id": "896d8130",
   "metadata": {},
   "outputs": [],
   "source": [
    "fig1= px.scatter(data1, x=\"carat\", y=\"price\", trendline=\"ols\")\n",
    "fig1.show()"
   ]
  },
  {
   "cell_type": "code",
   "execution_count": null,
   "id": "81240d5f",
   "metadata": {},
   "outputs": [],
   "source": [
    "data1"
   ]
  },
  {
   "cell_type": "code",
   "execution_count": null,
   "id": "f30c3209",
   "metadata": {},
   "outputs": [],
   "source": [
    "#a. Find the min and max values for each column.\n",
    "\n",
    "x_min , x_max = min(data1['x']),max(data1['x'])\n",
    "\n",
    "y_min ,  y_max = min(data1['y']) ,max(data1['y'])\n",
    "\n",
    "z_min ,z_max = min(data1['z']) , max(data1['z'])\n",
    " \n",
    "carat_min , carat_max = min(data1['carat']) , max(data1['carat'])\n",
    "\n",
    "\n",
    "depth_min , depth_max = min(data1['depth']),max(data1['depth'])\n",
    "\n",
    "table_min ,  table_max = min(data1['table']) ,max(data1['table'])\n",
    "\n",
    "price_min ,price_max = min(data1['price']) , max(data1['price'])\n"
   ]
  },
  {
   "cell_type": "code",
   "execution_count": null,
   "id": "464490ce",
   "metadata": {},
   "outputs": [],
   "source": [
    "#b. Rescale dataset columns to the range from 0 to 1\n",
    "\n",
    "data1['x'] = (data1['x'] - x_min) / (x_max - x_min)\n",
    "data1['y']  = (data1['y']  - y_min)  / (y_max  - y_min)\n",
    "data1['z'] = (data1['z'] - z_min)/(z_max - z_min)\n",
    "data1['carat'] = (data1['carat'] - carat_min)/(carat_max - carat_min)\n",
    "\n",
    "\n",
    "\n",
    "data1['depth'] = (data1['depth'] - depth_min) / (depth_max - depth_min)\n",
    "data1['table']  = (data1['table']  - table_min)  / (table_max  - table_min)\n",
    "data1['price'] = (data1['price'] - price_min)/(price_max - price_min)\n"
   ]
  },
  {
   "cell_type": "code",
   "execution_count": null,
   "id": "d2b9b343",
   "metadata": {},
   "outputs": [],
   "source": [
    "data1"
   ]
  },
  {
   "cell_type": "code",
   "execution_count": null,
   "id": "e22b52d9",
   "metadata": {},
   "outputs": [],
   "source": [
    "#chosing the Y_target\n",
    "#here we would chose y_target as price"
   ]
  },
  {
   "cell_type": "code",
   "execution_count": null,
   "id": "26b18432",
   "metadata": {},
   "outputs": [],
   "source": [
    "import random\n",
    "data1 = data1.sample(frac = 1)\n",
    "\n",
    "data11=data1\n",
    "numeric_cut = {\"cut\": {\"Fair\":0, \"Good\":1, \"Very Good\":2, \"Premium\":3, \"Ideal\":4}}\n",
    "data11 = data1.replace(numeric_cut)\n",
    "\n",
    "numeric_color = {\"color\": {\"J\":0,\"I\":1,\"H\":2,\"G\":3, \"F\":4, \"E\":5, \"D\":6}}\n",
    "data11 = data1.replace(numeric_color)\n",
    "\n",
    "\n",
    "numeric_clarity= {\"clarity\": {\"I1\":0,\"SI2\":1,\"SI1\":2,\"VS2\":3, \"VS1\":4, \"VVS2\":5, \"VVS1\":6,\"IF\":7}}\n",
    "data11 = data1.replace(numeric_clarity)\n",
    "data11 = data11.sample(frac = 1)"
   ]
  },
  {
   "cell_type": "code",
   "execution_count": null,
   "id": "548e6b76",
   "metadata": {},
   "outputs": [],
   "source": [
    "data11"
   ]
  },
  {
   "cell_type": "code",
   "execution_count": null,
   "id": "6ac0acf3",
   "metadata": {},
   "outputs": [],
   "source": [
    "data1_except_price_X=data1[['x','y','z','depth','carat',]]\n",
    "data2_except_price_X.shape"
   ]
  }
 ],
 "metadata": {
  "kernelspec": {
   "display_name": "Python 3 (ipykernel)",
   "language": "python",
   "name": "python3"
  },
  "language_info": {
   "codemirror_mode": {
    "name": "ipython",
    "version": 3
   },
   "file_extension": ".py",
   "mimetype": "text/x-python",
   "name": "python",
   "nbconvert_exporter": "python",
   "pygments_lexer": "ipython3",
   "version": "3.9.12"
  }
 },
 "nbformat": 4,
 "nbformat_minor": 5
}
